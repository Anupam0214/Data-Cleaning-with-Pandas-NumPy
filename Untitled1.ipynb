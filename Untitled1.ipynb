{
 "cells": [
  {
   "cell_type": "code",
   "execution_count": 2,
   "id": "62661e09-3d6e-4ec7-a296-95d8524c73ca",
   "metadata": {},
   "outputs": [],
   "source": [
    "import pandas as pd\n",
    "import numpy as np"
   ]
  },
  {
   "cell_type": "code",
   "execution_count": 3,
   "id": "61c042eb-a571-480a-aff1-c5b9bac33441",
   "metadata": {},
   "outputs": [],
   "source": [
    "data = {\n",
    "    \"CustomerID\": [101, 102, 103, 104, 105, 101],\n",
    "    \"Name\": [\"Ankit\", \"Seema\", \"Aman\", \"Seema\", \"\", \"Ankit\"],\n",
    "    \"Age\": [25, None, 27, 30, 29, 25],\n",
    "    \"Gender\": [\"Male\", \"Female\", None, \"Female\", \"Male\", \"Male\"],\n",
    "    \"PurchaseAmount\": [2500, None, 3400, 2500, 1900, 2500],\n",
    "    \"JoinDate\": [\"2021-01-05\", \"2020-11-11\", \"2021-03-15\", \"2020-11-11\", \"2022-02-25\", \"2021-01-05\"],\n",
    "    \"Country\": [\"India\", None, \"India\", \"India\", \"India\", \"India\"]\n",
    "}\n",
    "\n",
    "df = pd.DataFrame(data)\n",
    "df.to_csv('customer_data.csv', index=False)"
   ]
  },
  {
   "cell_type": "code",
   "execution_count": 5,
   "id": "c53794ae-3931-41be-b353-21a67bd8a25a",
   "metadata": {},
   "outputs": [
    {
     "name": "stdout",
     "output_type": "stream",
     "text": [
      "<class 'pandas.core.frame.DataFrame'>\n",
      "RangeIndex: 6 entries, 0 to 5\n",
      "Data columns (total 7 columns):\n",
      " #   Column          Non-Null Count  Dtype  \n",
      "---  ------          --------------  -----  \n",
      " 0   CustomerID      6 non-null      int64  \n",
      " 1   Name            5 non-null      object \n",
      " 2   Age             5 non-null      float64\n",
      " 3   Gender          5 non-null      object \n",
      " 4   PurchaseAmount  5 non-null      float64\n",
      " 5   JoinDate        6 non-null      object \n",
      " 6   Country         5 non-null      object \n",
      "dtypes: float64(2), int64(1), object(4)\n",
      "memory usage: 468.0+ bytes\n",
      "None\n",
      "       CustomerID        Age  PurchaseAmount\n",
      "count    6.000000   5.000000        5.000000\n",
      "mean   102.666667  27.200000     2560.000000\n",
      "std      1.632993   2.280351      536.656315\n",
      "min    101.000000  25.000000     1900.000000\n",
      "25%    101.250000  25.000000     2500.000000\n",
      "50%    102.500000  27.000000     2500.000000\n",
      "75%    103.750000  29.000000     2500.000000\n",
      "max    105.000000  30.000000     3400.000000\n",
      "   CustomerID     Name    Age         Gender  PurchaseAmount   JoinDate  \\\n",
      "0         101    Ankit  25.00           Male          2500.0 2021-01-05   \n",
      "1         102    Seema  27.75         Female          2500.0 2020-11-11   \n",
      "2         103     Aman  27.00  Not Specified          3400.0 2021-03-15   \n",
      "3         104    Seema  30.00         Female          2500.0 2020-11-11   \n",
      "4         105  Unknown  29.00           Male          1900.0 2022-02-25   \n",
      "\n",
      "   Country SpenderCategory  \n",
      "0    India             Low  \n",
      "1  Unknown             Low  \n",
      "2    India            High  \n",
      "3    India             Low  \n",
      "4    India             Low  \n"
     ]
    }
   ],
   "source": [
    "\n",
    "# Load the data\n",
    "df = pd.read_csv(\"customer_sales.csv\")\n",
    "\n",
    "# View basic info\n",
    "print(df.info())\n",
    "print(df.describe())\n",
    "\n",
    "# Remove duplicates\n",
    "df = df.drop_duplicates()\n",
    "\n",
    "# Handle missing values\n",
    "df['Age'] = df['Age'].fillna(df['Age'].mean())\n",
    "df['PurchaseAmount'] = df['PurchaseAmount'].fillna(df['PurchaseAmount'].median())\n",
    "df['Country'] = df['Country'].fillna(\"Unknown\")\n",
    "df['Name'] = df['Name'].fillna(\"Unknown\")\n",
    "df['Gender'] = df['Gender'].fillna(\"Not Specified\")\n",
    "\n",
    "# Convert date to datetime\n",
    "df['JoinDate'] = pd.to_datetime(df['JoinDate'])\n",
    "\n",
    "# Convert data types if needed\n",
    "df['CustomerID'] = df['CustomerID'].astype(int)\n",
    "\n",
    "# Create a new column for categorizing spenders\n",
    "df['SpenderCategory'] = np.where(df['PurchaseAmount'] > 3000, 'High', 'Low')\n",
    "\n",
    "# Final cleaned data\n",
    "print(df.head())\n"
   ]
  },
  {
   "cell_type": "code",
   "execution_count": 1,
   "id": "e05ade87-b167-4785-b2f2-30f9ad9f945b",
   "metadata": {},
   "outputs": [
    {
     "ename": "NameError",
     "evalue": "name 'df' is not defined",
     "output_type": "error",
     "traceback": [
      "\u001b[1;31m---------------------------------------------------------------------------\u001b[0m",
      "\u001b[1;31mNameError\u001b[0m                                 Traceback (most recent call last)",
      "Cell \u001b[1;32mIn[1], line 1\u001b[0m\n\u001b[1;32m----> 1\u001b[0m \u001b[43mdf\u001b[49m\u001b[38;5;241m.\u001b[39mto_csv(\u001b[38;5;124m\"\u001b[39m\u001b[38;5;124mcleaned_customer_sales.csv\u001b[39m\u001b[38;5;124m\"\u001b[39m, index\u001b[38;5;241m=\u001b[39m\u001b[38;5;28;01mFalse\u001b[39;00m)\n",
      "\u001b[1;31mNameError\u001b[0m: name 'df' is not defined"
     ]
    }
   ],
   "source": [
    "df.to_csv(\"cleaned_customer_sales.csv\", index=False)\n"
   ]
  },
  {
   "cell_type": "code",
   "execution_count": null,
   "id": "2f4cf516-b51d-4d67-ae4d-e186ebd1d183",
   "metadata": {},
   "outputs": [],
   "source": []
  }
 ],
 "metadata": {
  "kernelspec": {
   "display_name": "Python 3",
   "language": "python",
   "name": "python3"
  },
  "language_info": {
   "codemirror_mode": {
    "name": "ipython",
    "version": 3
   },
   "file_extension": ".py",
   "mimetype": "text/x-python",
   "name": "python",
   "nbconvert_exporter": "python",
   "pygments_lexer": "ipython3",
   "version": "3.13.1"
  }
 },
 "nbformat": 4,
 "nbformat_minor": 5
}
